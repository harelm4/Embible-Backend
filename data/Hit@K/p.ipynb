{
 "cells": [
  {
   "cell_type": "code",
   "execution_count": 2,
   "metadata": {},
   "outputs": [],
   "source": [
    "import pandas as pd"
   ]
  },
  {
   "cell_type": "code",
   "execution_count": 3,
   "metadata": {},
   "outputs": [
    {
     "name": "stdout",
     "output_type": "stream",
     "text": [
      "0.04954281411497744\n",
      "0.1053364965684722\n",
      "0.14873869401360024\n"
     ]
    }
   ],
   "source": [
    "for i in [5,10,15]:\n",
    "    file_path=f'mixed test dfs known spaces new P/MIX_test_df_known_spaces_{i}_percent.json'\n",
    "    df = pd.read_json(file_path, orient='records', lines=True)\n",
    "    data = df.to_dict(orient='records')\n",
    "    data= [{'text': x['verse'], 'missing': x['missing_dictionary']} for x in data]\n",
    "    p_lst=[]\n",
    "    for d in data:\n",
    "        p = len(d['missing'])/len(d['text'])\n",
    "        p_lst.append(p)\n",
    "\n",
    "    print(sum(p_lst)/len(p_lst))"
   ]
  }
 ],
 "metadata": {
  "kernelspec": {
   "display_name": "Python 3",
   "language": "python",
   "name": "python3"
  },
  "language_info": {
   "codemirror_mode": {
    "name": "ipython",
    "version": 3
   },
   "file_extension": ".py",
   "mimetype": "text/x-python",
   "name": "python",
   "nbconvert_exporter": "python",
   "pygments_lexer": "ipython3",
   "version": "3.11.4"
  },
  "orig_nbformat": 4
 },
 "nbformat": 4,
 "nbformat_minor": 2
}
