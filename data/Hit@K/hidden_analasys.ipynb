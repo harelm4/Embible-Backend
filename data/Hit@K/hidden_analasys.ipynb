{
 "cells": [
  {
   "cell_type": "code",
   "execution_count": 1,
   "metadata": {},
   "outputs": [],
   "source": [
    "import pandas as pd"
   ]
  },
  {
   "cell_type": "code",
   "execution_count": 27,
   "metadata": {},
   "outputs": [
    {
     "name": "stdout",
     "output_type": "stream",
     "text": [
      "0.040470838380245525\n",
      "0.12321803974024585\n",
      "0.19902491166384131\n",
      "0.2452051795623335\n"
     ]
    }
   ],
   "source": [
    "for i in [5,15,25,30]:\n",
    "    file_path=f'no masked spaces char tokens/{i}.json'\n",
    "    df = pd.read_json(file_path, orient='records', lines=True)\n",
    "    data = df.to_dict(orient='records')\n",
    "    data= [{'text': x['verse'], 'missing': x['missing_dictionary']} for x in data]\n",
    "    p_lst=[]\n",
    "    for d in data:\n",
    "        p = len(d['missing'])/len(d['text'])\n",
    "        p_lst.append(p)\n",
    "\n",
    "    print(sum(p_lst)/len(p_lst))"
   ]
  },
  {
   "cell_type": "code",
   "execution_count": 28,
   "metadata": {},
   "outputs": [
    {
     "name": "stdout",
     "output_type": "stream",
     "text": [
      "0.08129836371864967\n",
      "0.15298201040426224\n",
      "0.22654426564620295\n"
     ]
    }
   ],
   "source": [
    "for i in [5,10,15]:\n",
    "    file_path=f'mixed validation df known spaces/MIX_validation_df_known_spaces_{i}.json'\n",
    "    df = pd.read_json(file_path, orient='records', lines=True)\n",
    "    data = df.to_dict(orient='records')\n",
    "    data= [{'text': x['verse'], 'missing': x['missing_dictionary']} for x in data]\n",
    "    p_lst=[]\n",
    "    for d in data:\n",
    "        p = len(d['missing'])/len(d['text'])\n",
    "        p_lst.append(p)\n",
    "\n",
    "    print(sum(p_lst)/len(p_lst))"
   ]
  },
  {
   "cell_type": "code",
   "execution_count": 29,
   "metadata": {},
   "outputs": [
    {
     "name": "stdout",
     "output_type": "stream",
     "text": [
      "0.089666699767244\n",
      "0.180614847421548\n",
      "0.2609458947765954\n"
     ]
    }
   ],
   "source": [
    "for i in [5,10,15]:\n",
    "    file_path=f'mixed validation df masked spaces/MIX_validation_df_masked_spaces_{i}.json'\n",
    "    df = pd.read_json(file_path, orient='records', lines=True)\n",
    "    data = df.to_dict(orient='records')\n",
    "    data= [{'text': x['verse'], 'missing': x['missing_dictionary']} for x in data]\n",
    "    p_lst=[]\n",
    "    for d in data:\n",
    "        p = len(d['missing'])/len(d['text'])\n",
    "        p_lst.append(p)\n",
    "\n",
    "    print(sum(p_lst)/len(p_lst))"
   ]
  }
 ],
 "metadata": {
  "language_info": {
   "name": "python"
  },
  "orig_nbformat": 4
 },
 "nbformat": 4,
 "nbformat_minor": 2
}
